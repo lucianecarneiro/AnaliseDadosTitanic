{
 "cells": [
  {
   "cell_type": "markdown",
   "metadata": {},
   "source": [
    "# Projeto 2 - Nanodegree Fundamentos de Data Science I"
   ]
  },
  {
   "cell_type": "markdown",
   "metadata": {},
   "source": [
    "##### Luciane Carneiro - 2019"
   ]
  },
  {
   "cell_type": "markdown",
   "metadata": {},
   "source": [
    "Estudo do conjunto de dados demográficos e informações de 891 dos 2.224 passageiros e tripulantes a bordo do Titanic. Serão descritas todas as etapas realizadas na análise do conjunto de dados."
   ]
  },
  {
   "cell_type": "markdown",
   "metadata": {},
   "source": [
    "### Importar bibliotecas:"
   ]
  },
  {
   "cell_type": "code",
   "execution_count": 1,
   "metadata": {},
   "outputs": [],
   "source": [
    "import pandas as pd\n",
    "import numpy as np\n",
    "import matplotlib.pyplot as plt\n",
    "%matplotlib inline"
   ]
  },
  {
   "cell_type": "markdown",
   "metadata": {},
   "source": [
    "### Carregar conjunto de dados e exibir amostra de registros e informações gerais sobre os dados:"
   ]
  },
  {
   "cell_type": "code",
   "execution_count": 2,
   "metadata": {},
   "outputs": [
    {
     "data": {
      "text/html": [
       "<div>\n",
       "<style scoped>\n",
       "    .dataframe tbody tr th:only-of-type {\n",
       "        vertical-align: middle;\n",
       "    }\n",
       "\n",
       "    .dataframe tbody tr th {\n",
       "        vertical-align: top;\n",
       "    }\n",
       "\n",
       "    .dataframe thead th {\n",
       "        text-align: right;\n",
       "    }\n",
       "</style>\n",
       "<table border=\"1\" class=\"dataframe\">\n",
       "  <thead>\n",
       "    <tr style=\"text-align: right;\">\n",
       "      <th></th>\n",
       "      <th>PassengerId</th>\n",
       "      <th>Survived</th>\n",
       "      <th>Pclass</th>\n",
       "      <th>Name</th>\n",
       "      <th>Sex</th>\n",
       "      <th>Age</th>\n",
       "      <th>SibSp</th>\n",
       "      <th>Parch</th>\n",
       "      <th>Ticket</th>\n",
       "      <th>Fare</th>\n",
       "      <th>Cabin</th>\n",
       "      <th>Embarked</th>\n",
       "    </tr>\n",
       "  </thead>\n",
       "  <tbody>\n",
       "    <tr>\n",
       "      <th>0</th>\n",
       "      <td>1</td>\n",
       "      <td>0</td>\n",
       "      <td>3</td>\n",
       "      <td>Braund, Mr. Owen Harris</td>\n",
       "      <td>male</td>\n",
       "      <td>22.0</td>\n",
       "      <td>1</td>\n",
       "      <td>0</td>\n",
       "      <td>A/5 21171</td>\n",
       "      <td>7.2500</td>\n",
       "      <td>NaN</td>\n",
       "      <td>S</td>\n",
       "    </tr>\n",
       "    <tr>\n",
       "      <th>1</th>\n",
       "      <td>2</td>\n",
       "      <td>1</td>\n",
       "      <td>1</td>\n",
       "      <td>Cumings, Mrs. John Bradley (Florence Briggs Th...</td>\n",
       "      <td>female</td>\n",
       "      <td>38.0</td>\n",
       "      <td>1</td>\n",
       "      <td>0</td>\n",
       "      <td>PC 17599</td>\n",
       "      <td>71.2833</td>\n",
       "      <td>C85</td>\n",
       "      <td>C</td>\n",
       "    </tr>\n",
       "    <tr>\n",
       "      <th>2</th>\n",
       "      <td>3</td>\n",
       "      <td>1</td>\n",
       "      <td>3</td>\n",
       "      <td>Heikkinen, Miss. Laina</td>\n",
       "      <td>female</td>\n",
       "      <td>26.0</td>\n",
       "      <td>0</td>\n",
       "      <td>0</td>\n",
       "      <td>STON/O2. 3101282</td>\n",
       "      <td>7.9250</td>\n",
       "      <td>NaN</td>\n",
       "      <td>S</td>\n",
       "    </tr>\n",
       "    <tr>\n",
       "      <th>3</th>\n",
       "      <td>4</td>\n",
       "      <td>1</td>\n",
       "      <td>1</td>\n",
       "      <td>Futrelle, Mrs. Jacques Heath (Lily May Peel)</td>\n",
       "      <td>female</td>\n",
       "      <td>35.0</td>\n",
       "      <td>1</td>\n",
       "      <td>0</td>\n",
       "      <td>113803</td>\n",
       "      <td>53.1000</td>\n",
       "      <td>C123</td>\n",
       "      <td>S</td>\n",
       "    </tr>\n",
       "    <tr>\n",
       "      <th>4</th>\n",
       "      <td>5</td>\n",
       "      <td>0</td>\n",
       "      <td>3</td>\n",
       "      <td>Allen, Mr. William Henry</td>\n",
       "      <td>male</td>\n",
       "      <td>35.0</td>\n",
       "      <td>0</td>\n",
       "      <td>0</td>\n",
       "      <td>373450</td>\n",
       "      <td>8.0500</td>\n",
       "      <td>NaN</td>\n",
       "      <td>S</td>\n",
       "    </tr>\n",
       "  </tbody>\n",
       "</table>\n",
       "</div>"
      ],
      "text/plain": [
       "   PassengerId  Survived  Pclass  \\\n",
       "0            1         0       3   \n",
       "1            2         1       1   \n",
       "2            3         1       3   \n",
       "3            4         1       1   \n",
       "4            5         0       3   \n",
       "\n",
       "                                                Name     Sex   Age  SibSp  \\\n",
       "0                            Braund, Mr. Owen Harris    male  22.0      1   \n",
       "1  Cumings, Mrs. John Bradley (Florence Briggs Th...  female  38.0      1   \n",
       "2                             Heikkinen, Miss. Laina  female  26.0      0   \n",
       "3       Futrelle, Mrs. Jacques Heath (Lily May Peel)  female  35.0      1   \n",
       "4                           Allen, Mr. William Henry    male  35.0      0   \n",
       "\n",
       "   Parch            Ticket     Fare Cabin Embarked  \n",
       "0      0         A/5 21171   7.2500   NaN        S  \n",
       "1      0          PC 17599  71.2833   C85        C  \n",
       "2      0  STON/O2. 3101282   7.9250   NaN        S  \n",
       "3      0            113803  53.1000  C123        S  \n",
       "4      0            373450   8.0500   NaN        S  "
      ]
     },
     "execution_count": 2,
     "metadata": {},
     "output_type": "execute_result"
    }
   ],
   "source": [
    "df_titanic = pd.read_csv(\"https://d17h27t6h515a5.cloudfront.net/topher/2017/October/59e4fe3d_titanic-data-6/titanic-data-6.csv\")\n",
    "\n",
    "#Amostra dos registros\n",
    "df_titanic.head()"
   ]
  },
  {
   "cell_type": "markdown",
   "metadata": {},
   "source": [
    "Importante consultar a referência para entender o que cada coluna quer dizer. Segue:\n",
    "\n",
    "|    Coluna   |                            Significado                            |\n",
    "|-------------|-------------------------------------------------------------------|\n",
    "| Survived    | Indica se sobreviveu ou não ao naufrágio. 0 = Não, 1 = Sim        |\n",
    "| Pclass      | Classe da passagem. 1 = primeira, 2 = segunda, 3 = terceira       |\n",
    "| Name        | Nome do passageiro/tripulante                                     | \n",
    "| Sex         | Sexo do passageiro/tripulante                                     |\n",
    "| Age         | Idade do passageiro/tripulante                                    |\n",
    "| SibSp       | Número de irmãos/cônjuges a bordo do navio                        |\n",
    "| Parch       | Número de pais/crianças a bordo do navio                          |\n",
    "| Ticket      | Número da passagem                                                |\n",
    "| Fare        | Valor da passagem                                                 |\n",
    "| Cabin       | Número da cabine no navio                                         |\n",
    "| Embarked    | Porto de Embarque. C = Cherbourg, Q = Queenstown, S = Southampton |"
   ]
  },
  {
   "cell_type": "code",
   "execution_count": 3,
   "metadata": {},
   "outputs": [
    {
     "data": {
      "text/html": [
       "<div>\n",
       "<style scoped>\n",
       "    .dataframe tbody tr th:only-of-type {\n",
       "        vertical-align: middle;\n",
       "    }\n",
       "\n",
       "    .dataframe tbody tr th {\n",
       "        vertical-align: top;\n",
       "    }\n",
       "\n",
       "    .dataframe thead th {\n",
       "        text-align: right;\n",
       "    }\n",
       "</style>\n",
       "<table border=\"1\" class=\"dataframe\">\n",
       "  <thead>\n",
       "    <tr style=\"text-align: right;\">\n",
       "      <th></th>\n",
       "      <th>PassengerId</th>\n",
       "      <th>Survived</th>\n",
       "      <th>Pclass</th>\n",
       "      <th>Age</th>\n",
       "      <th>SibSp</th>\n",
       "      <th>Parch</th>\n",
       "      <th>Fare</th>\n",
       "    </tr>\n",
       "  </thead>\n",
       "  <tbody>\n",
       "    <tr>\n",
       "      <th>count</th>\n",
       "      <td>891.000000</td>\n",
       "      <td>891.000000</td>\n",
       "      <td>891.000000</td>\n",
       "      <td>714.000000</td>\n",
       "      <td>891.000000</td>\n",
       "      <td>891.000000</td>\n",
       "      <td>891.000000</td>\n",
       "    </tr>\n",
       "    <tr>\n",
       "      <th>mean</th>\n",
       "      <td>446.000000</td>\n",
       "      <td>0.383838</td>\n",
       "      <td>2.308642</td>\n",
       "      <td>29.699118</td>\n",
       "      <td>0.523008</td>\n",
       "      <td>0.381594</td>\n",
       "      <td>32.204208</td>\n",
       "    </tr>\n",
       "    <tr>\n",
       "      <th>std</th>\n",
       "      <td>257.353842</td>\n",
       "      <td>0.486592</td>\n",
       "      <td>0.836071</td>\n",
       "      <td>14.526497</td>\n",
       "      <td>1.102743</td>\n",
       "      <td>0.806057</td>\n",
       "      <td>49.693429</td>\n",
       "    </tr>\n",
       "    <tr>\n",
       "      <th>min</th>\n",
       "      <td>1.000000</td>\n",
       "      <td>0.000000</td>\n",
       "      <td>1.000000</td>\n",
       "      <td>0.420000</td>\n",
       "      <td>0.000000</td>\n",
       "      <td>0.000000</td>\n",
       "      <td>0.000000</td>\n",
       "    </tr>\n",
       "    <tr>\n",
       "      <th>25%</th>\n",
       "      <td>223.500000</td>\n",
       "      <td>0.000000</td>\n",
       "      <td>2.000000</td>\n",
       "      <td>20.125000</td>\n",
       "      <td>0.000000</td>\n",
       "      <td>0.000000</td>\n",
       "      <td>7.910400</td>\n",
       "    </tr>\n",
       "    <tr>\n",
       "      <th>50%</th>\n",
       "      <td>446.000000</td>\n",
       "      <td>0.000000</td>\n",
       "      <td>3.000000</td>\n",
       "      <td>28.000000</td>\n",
       "      <td>0.000000</td>\n",
       "      <td>0.000000</td>\n",
       "      <td>14.454200</td>\n",
       "    </tr>\n",
       "    <tr>\n",
       "      <th>75%</th>\n",
       "      <td>668.500000</td>\n",
       "      <td>1.000000</td>\n",
       "      <td>3.000000</td>\n",
       "      <td>38.000000</td>\n",
       "      <td>1.000000</td>\n",
       "      <td>0.000000</td>\n",
       "      <td>31.000000</td>\n",
       "    </tr>\n",
       "    <tr>\n",
       "      <th>max</th>\n",
       "      <td>891.000000</td>\n",
       "      <td>1.000000</td>\n",
       "      <td>3.000000</td>\n",
       "      <td>80.000000</td>\n",
       "      <td>8.000000</td>\n",
       "      <td>6.000000</td>\n",
       "      <td>512.329200</td>\n",
       "    </tr>\n",
       "  </tbody>\n",
       "</table>\n",
       "</div>"
      ],
      "text/plain": [
       "       PassengerId    Survived      Pclass         Age       SibSp  \\\n",
       "count   891.000000  891.000000  891.000000  714.000000  891.000000   \n",
       "mean    446.000000    0.383838    2.308642   29.699118    0.523008   \n",
       "std     257.353842    0.486592    0.836071   14.526497    1.102743   \n",
       "min       1.000000    0.000000    1.000000    0.420000    0.000000   \n",
       "25%     223.500000    0.000000    2.000000   20.125000    0.000000   \n",
       "50%     446.000000    0.000000    3.000000   28.000000    0.000000   \n",
       "75%     668.500000    1.000000    3.000000   38.000000    1.000000   \n",
       "max     891.000000    1.000000    3.000000   80.000000    8.000000   \n",
       "\n",
       "            Parch        Fare  \n",
       "count  891.000000  891.000000  \n",
       "mean     0.381594   32.204208  \n",
       "std      0.806057   49.693429  \n",
       "min      0.000000    0.000000  \n",
       "25%      0.000000    7.910400  \n",
       "50%      0.000000   14.454200  \n",
       "75%      0.000000   31.000000  \n",
       "max      6.000000  512.329200  "
      ]
     },
     "execution_count": 3,
     "metadata": {},
     "output_type": "execute_result"
    }
   ],
   "source": [
    "#Informações como contagem, média, mediana, valores mínimo e máximo, entre outros\n",
    "df_titanic.describe()"
   ]
  },
  {
   "cell_type": "code",
   "execution_count": 4,
   "metadata": {},
   "outputs": [
    {
     "name": "stdout",
     "output_type": "stream",
     "text": [
      "<class 'pandas.core.frame.DataFrame'>\n",
      "RangeIndex: 891 entries, 0 to 890\n",
      "Data columns (total 12 columns):\n",
      "PassengerId    891 non-null int64\n",
      "Survived       891 non-null int64\n",
      "Pclass         891 non-null int64\n",
      "Name           891 non-null object\n",
      "Sex            891 non-null object\n",
      "Age            714 non-null float64\n",
      "SibSp          891 non-null int64\n",
      "Parch          891 non-null int64\n",
      "Ticket         891 non-null object\n",
      "Fare           891 non-null float64\n",
      "Cabin          204 non-null object\n",
      "Embarked       889 non-null object\n",
      "dtypes: float64(2), int64(5), object(5)\n",
      "memory usage: 83.6+ KB\n"
     ]
    }
   ],
   "source": [
    "#Informações sobre tipos de dados\n",
    "df_titanic.info()"
   ]
  },
  {
   "cell_type": "code",
   "execution_count": 5,
   "metadata": {},
   "outputs": [
    {
     "name": "stdout",
     "output_type": "stream",
     "text": [
      "Registros duplicados de PassengerId: 0\n"
     ]
    }
   ],
   "source": [
    "#Testar se PassengerId possui somente valores únicos\n",
    "print(\"Registros duplicados de PassengerId: {0}\".format(sum(df_titanic['PassengerId'].duplicated())))"
   ]
  },
  {
   "cell_type": "code",
   "execution_count": 6,
   "metadata": {},
   "outputs": [],
   "source": [
    "#Colocar PassengerId como index, por se tratar de um identificador\n",
    "df_titanic.set_index('PassengerId', inplace=True)"
   ]
  },
  {
   "cell_type": "code",
   "execution_count": 7,
   "metadata": {},
   "outputs": [
    {
     "name": "stdout",
     "output_type": "stream",
     "text": [
      "Registros duplicados: 0\n"
     ]
    },
    {
     "data": {
      "text/html": [
       "<div>\n",
       "<style scoped>\n",
       "    .dataframe tbody tr th:only-of-type {\n",
       "        vertical-align: middle;\n",
       "    }\n",
       "\n",
       "    .dataframe tbody tr th {\n",
       "        vertical-align: top;\n",
       "    }\n",
       "\n",
       "    .dataframe thead th {\n",
       "        text-align: right;\n",
       "    }\n",
       "</style>\n",
       "<table border=\"1\" class=\"dataframe\">\n",
       "  <thead>\n",
       "    <tr style=\"text-align: right;\">\n",
       "      <th></th>\n",
       "      <th>Survived</th>\n",
       "      <th>Pclass</th>\n",
       "      <th>Name</th>\n",
       "      <th>Sex</th>\n",
       "      <th>Age</th>\n",
       "      <th>SibSp</th>\n",
       "      <th>Parch</th>\n",
       "      <th>Ticket</th>\n",
       "      <th>Fare</th>\n",
       "      <th>Cabin</th>\n",
       "      <th>Embarked</th>\n",
       "    </tr>\n",
       "    <tr>\n",
       "      <th>PassengerId</th>\n",
       "      <th></th>\n",
       "      <th></th>\n",
       "      <th></th>\n",
       "      <th></th>\n",
       "      <th></th>\n",
       "      <th></th>\n",
       "      <th></th>\n",
       "      <th></th>\n",
       "      <th></th>\n",
       "      <th></th>\n",
       "      <th></th>\n",
       "    </tr>\n",
       "  </thead>\n",
       "  <tbody>\n",
       "    <tr>\n",
       "      <th>1</th>\n",
       "      <td>0</td>\n",
       "      <td>3</td>\n",
       "      <td>Braund, Mr. Owen Harris</td>\n",
       "      <td>male</td>\n",
       "      <td>22.0</td>\n",
       "      <td>1</td>\n",
       "      <td>0</td>\n",
       "      <td>A/5 21171</td>\n",
       "      <td>7.2500</td>\n",
       "      <td>NaN</td>\n",
       "      <td>S</td>\n",
       "    </tr>\n",
       "    <tr>\n",
       "      <th>2</th>\n",
       "      <td>1</td>\n",
       "      <td>1</td>\n",
       "      <td>Cumings, Mrs. John Bradley (Florence Briggs Th...</td>\n",
       "      <td>female</td>\n",
       "      <td>38.0</td>\n",
       "      <td>1</td>\n",
       "      <td>0</td>\n",
       "      <td>PC 17599</td>\n",
       "      <td>71.2833</td>\n",
       "      <td>C85</td>\n",
       "      <td>C</td>\n",
       "    </tr>\n",
       "    <tr>\n",
       "      <th>3</th>\n",
       "      <td>1</td>\n",
       "      <td>3</td>\n",
       "      <td>Heikkinen, Miss. Laina</td>\n",
       "      <td>female</td>\n",
       "      <td>26.0</td>\n",
       "      <td>0</td>\n",
       "      <td>0</td>\n",
       "      <td>STON/O2. 3101282</td>\n",
       "      <td>7.9250</td>\n",
       "      <td>NaN</td>\n",
       "      <td>S</td>\n",
       "    </tr>\n",
       "    <tr>\n",
       "      <th>4</th>\n",
       "      <td>1</td>\n",
       "      <td>1</td>\n",
       "      <td>Futrelle, Mrs. Jacques Heath (Lily May Peel)</td>\n",
       "      <td>female</td>\n",
       "      <td>35.0</td>\n",
       "      <td>1</td>\n",
       "      <td>0</td>\n",
       "      <td>113803</td>\n",
       "      <td>53.1000</td>\n",
       "      <td>C123</td>\n",
       "      <td>S</td>\n",
       "    </tr>\n",
       "    <tr>\n",
       "      <th>5</th>\n",
       "      <td>0</td>\n",
       "      <td>3</td>\n",
       "      <td>Allen, Mr. William Henry</td>\n",
       "      <td>male</td>\n",
       "      <td>35.0</td>\n",
       "      <td>0</td>\n",
       "      <td>0</td>\n",
       "      <td>373450</td>\n",
       "      <td>8.0500</td>\n",
       "      <td>NaN</td>\n",
       "      <td>S</td>\n",
       "    </tr>\n",
       "  </tbody>\n",
       "</table>\n",
       "</div>"
      ],
      "text/plain": [
       "             Survived  Pclass  \\\n",
       "PassengerId                     \n",
       "1                   0       3   \n",
       "2                   1       1   \n",
       "3                   1       3   \n",
       "4                   1       1   \n",
       "5                   0       3   \n",
       "\n",
       "                                                          Name     Sex   Age  \\\n",
       "PassengerId                                                                    \n",
       "1                                      Braund, Mr. Owen Harris    male  22.0   \n",
       "2            Cumings, Mrs. John Bradley (Florence Briggs Th...  female  38.0   \n",
       "3                                       Heikkinen, Miss. Laina  female  26.0   \n",
       "4                 Futrelle, Mrs. Jacques Heath (Lily May Peel)  female  35.0   \n",
       "5                                     Allen, Mr. William Henry    male  35.0   \n",
       "\n",
       "             SibSp  Parch            Ticket     Fare Cabin Embarked  \n",
       "PassengerId                                                          \n",
       "1                1      0         A/5 21171   7.2500   NaN        S  \n",
       "2                1      0          PC 17599  71.2833   C85        C  \n",
       "3                0      0  STON/O2. 3101282   7.9250   NaN        S  \n",
       "4                1      0            113803  53.1000  C123        S  \n",
       "5                0      0            373450   8.0500   NaN        S  "
      ]
     },
     "execution_count": 7,
     "metadata": {},
     "output_type": "execute_result"
    }
   ],
   "source": [
    "#Encontrar duplicatas\n",
    "print(\"Registros duplicados: {0}\".format(sum(df_titanic.duplicated())))\n",
    "\n",
    "df_titanic.head()"
   ]
  },
  {
   "cell_type": "markdown",
   "metadata": {},
   "source": [
    "Com a análise realizada pelos comandos executados até agora, é possível identificar que há 891 registros, porém não há em todos os registros as informações de Idade, Número da Cabine e de Porto de Embarque. Além disso, é possível identificar que os dados que contem números estão devidamente tipificados, e que não há registros duplicados."
   ]
  },
  {
   "cell_type": "markdown",
   "metadata": {},
   "source": [
    "### Com os dados analisados, foram escolhidas as seguintes perguntas:\n",
    "\n",
    "1) Dentre os relacionados, quantos sobreviveram e quantos não?\n",
    "\n",
    "2) Qual relação faixa etária/sexo/classe teve mais passageiros/tripulantes que não sobreviveram?"
   ]
  },
  {
   "cell_type": "markdown",
   "metadata": {},
   "source": [
    "### Limpeza dos dados, considerando somente as variáveis para responder às perguntas:"
   ]
  },
  {
   "cell_type": "code",
   "execution_count": 8,
   "metadata": {},
   "outputs": [],
   "source": [
    "#Eliminando colunas desnecessárias para as perguntas propostas\n",
    "df_titanic_clean = df_titanic.drop(['Name', 'SibSp', 'Parch', 'Ticket', 'Fare', 'Cabin', 'Embarked'], axis=1)"
   ]
  },
  {
   "cell_type": "code",
   "execution_count": 9,
   "metadata": {},
   "outputs": [
    {
     "data": {
      "text/html": [
       "<div>\n",
       "<style scoped>\n",
       "    .dataframe tbody tr th:only-of-type {\n",
       "        vertical-align: middle;\n",
       "    }\n",
       "\n",
       "    .dataframe tbody tr th {\n",
       "        vertical-align: top;\n",
       "    }\n",
       "\n",
       "    .dataframe thead th {\n",
       "        text-align: right;\n",
       "    }\n",
       "</style>\n",
       "<table border=\"1\" class=\"dataframe\">\n",
       "  <thead>\n",
       "    <tr style=\"text-align: right;\">\n",
       "      <th></th>\n",
       "      <th>Sobrevivente</th>\n",
       "      <th>Classe</th>\n",
       "      <th>Sexo</th>\n",
       "      <th>Idade</th>\n",
       "    </tr>\n",
       "    <tr>\n",
       "      <th>PassengerId</th>\n",
       "      <th></th>\n",
       "      <th></th>\n",
       "      <th></th>\n",
       "      <th></th>\n",
       "    </tr>\n",
       "  </thead>\n",
       "  <tbody>\n",
       "    <tr>\n",
       "      <th>1</th>\n",
       "      <td>Não</td>\n",
       "      <td>3</td>\n",
       "      <td>Homem</td>\n",
       "      <td>22.0</td>\n",
       "    </tr>\n",
       "    <tr>\n",
       "      <th>2</th>\n",
       "      <td>Sim</td>\n",
       "      <td>1</td>\n",
       "      <td>Mulher</td>\n",
       "      <td>38.0</td>\n",
       "    </tr>\n",
       "    <tr>\n",
       "      <th>3</th>\n",
       "      <td>Sim</td>\n",
       "      <td>3</td>\n",
       "      <td>Mulher</td>\n",
       "      <td>26.0</td>\n",
       "    </tr>\n",
       "    <tr>\n",
       "      <th>4</th>\n",
       "      <td>Sim</td>\n",
       "      <td>1</td>\n",
       "      <td>Mulher</td>\n",
       "      <td>35.0</td>\n",
       "    </tr>\n",
       "    <tr>\n",
       "      <th>5</th>\n",
       "      <td>Não</td>\n",
       "      <td>3</td>\n",
       "      <td>Homem</td>\n",
       "      <td>35.0</td>\n",
       "    </tr>\n",
       "  </tbody>\n",
       "</table>\n",
       "</div>"
      ],
      "text/plain": [
       "            Sobrevivente  Classe    Sexo  Idade\n",
       "PassengerId                                    \n",
       "1                    Não       3   Homem   22.0\n",
       "2                    Sim       1  Mulher   38.0\n",
       "3                    Sim       3  Mulher   26.0\n",
       "4                    Sim       1  Mulher   35.0\n",
       "5                    Não       3   Homem   35.0"
      ]
     },
     "execution_count": 9,
     "metadata": {},
     "output_type": "execute_result"
    }
   ],
   "source": [
    "#Alterando o tipo de dado e o seu conteúdo para facilitar a legenda\n",
    "df_titanic_clean['Survived'] = df_titanic_clean['Survived'].astype(str)\n",
    "df_titanic_clean['Survived'] = df_titanic_clean['Survived'].replace('0', 'Não').replace('1', 'Sim')\n",
    "df_titanic_clean['Sex'] = df_titanic_clean['Sex'].replace('female', 'Mulher').replace('male', 'Homem')\n",
    "\n",
    "#Alterando os nomes das colunas\n",
    "df_titanic_clean.columns = ['Sobrevivente', 'Classe', 'Sexo', 'Idade']\n",
    "\n",
    "df_titanic_clean.head()"
   ]
  },
  {
   "cell_type": "markdown",
   "metadata": {},
   "source": [
    "Com isso, a tabela já está mais limpa e organizada. A seguir, serão verificados os valores faltantes."
   ]
  },
  {
   "cell_type": "code",
   "execution_count": 10,
   "metadata": {},
   "outputs": [
    {
     "data": {
      "text/plain": [
       "Sobrevivente      0\n",
       "Classe            0\n",
       "Sexo              0\n",
       "Idade           177\n",
       "dtype: int64"
      ]
     },
     "execution_count": 10,
     "metadata": {},
     "output_type": "execute_result"
    }
   ],
   "source": [
    "#Contagem de valores faltantes\n",
    "df_titanic_clean.isnull().sum()"
   ]
  },
  {
   "cell_type": "code",
   "execution_count": 11,
   "metadata": {},
   "outputs": [
    {
     "name": "stdout",
     "output_type": "stream",
     "text": [
      "Passageiros e tripulantes com registro completo para a análise: 714\n"
     ]
    }
   ],
   "source": [
    "#Como são poucos registros dentro do total apresentado, vamos eliminar os que estão com valor faltando\n",
    "df_titanic_clean.dropna(inplace=True, how='any')\n",
    "\n",
    "#Nova contagem de registros\n",
    "print(\"Passageiros e tripulantes com registro completo para a análise: {0}\".format(df_titanic_clean.shape[0]))"
   ]
  },
  {
   "cell_type": "markdown",
   "metadata": {},
   "source": [
    "### 1) Dentre os relacionados, quantos sobreviveram e quantos não?"
   ]
  },
  {
   "cell_type": "code",
   "execution_count": 12,
   "metadata": {},
   "outputs": [
    {
     "data": {
      "image/png": "[encoded data removed]",
      "text/plain": [
       "<Figure size 504x216 with 1 Axes>"
      ]
     },
     "metadata": {
      "needs_background": "light"
     },
     "output_type": "display_data"
    }
   ],
   "source": [
    "#Gráfico de quantidades\n",
    "grafico = df_titanic_clean['Sobrevivente'].value_counts().plot(kind='barh', \n",
    "                                                               title='Sobreviveu ao naufrágio?', figsize=(7,3));\n",
    "plt.xlabel('Passageiros e Tripulantes');\n",
    "plt.ylabel('Sobrevivente');\n",
    "\n",
    "for item in grafico.patches:\n",
    "    value = item.get_width()\n",
    "    grafico.text(item.get_width() + 7, item.get_y() + .2, \"Total: {0}\".format(value), bbox=dict(fill=False))"
   ]
  },
  {
   "cell_type": "code",
   "execution_count": 13,
   "metadata": {},
   "outputs": [
    {
     "data": {
      "image/png": "[encoded data removed]",
      "text/plain": [
       "<Figure size 432x288 with 1 Axes>"
      ]
     },
     "metadata": {},
     "output_type": "display_data"
    }
   ],
   "source": [
    "#Gráfico de porcentagem\n",
    "df_titanic_clean['Sobrevivente'].value_counts().plot(kind = 'pie', autopct='%1.1f%%', \n",
    "                                                     title='Sobreviveu ao naufrágio?');"
   ]
  },
  {
   "cell_type": "markdown",
   "metadata": {},
   "source": [
    "Com os dois gráficos podemos observar que a maior parte dos passageiros e tripulantes não sobreviveram ao naufrágio. Dos 714 analisados, 424 não sobreviveram (59,38%), enquanto 290 sobreviveram (40,62%)."
   ]
  },
  {
   "cell_type": "markdown",
   "metadata": {},
   "source": [
    "### 2) Qual relação faixa etária/sexo/classe teve mais passageiros/tripulantes que não sobreviveram?\n",
    "\n",
    "Vamos separar esta pergunta em 3 análises: \n",
    "\n",
    "Análise por fáixa etária;\n",
    "\n",
    "Análise por sexo; e \n",
    "\n",
    "Análise por classe.\n",
    "\n",
    "Após, será feita a análise dos não sobreviventes, agrupando as três variáveis."
   ]
  },
  {
   "cell_type": "code",
   "execution_count": 14,
   "metadata": {
    "scrolled": true
   },
   "outputs": [],
   "source": [
    "#Criar filtro para sobreviventes e não sobreviventes, se necessário\n",
    "filtro_sobrevivente_nao = df_titanic_clean['Sobrevivente'] == 'Não'\n",
    "filtro_sobrevivente_sim = df_titanic_clean['Sobrevivente'] == 'Sim'"
   ]
  },
  {
   "cell_type": "code",
   "execution_count": 15,
   "metadata": {},
   "outputs": [],
   "source": [
    "#Função para cálculo de percentual\n",
    "def calcular_percentual(valor, total):\n",
    "    \"\"\"Função que calcula o percentual de um valor em relação ao seu total.\n",
    "    \n",
    "    Arguments:\n",
    "        valor {int} -- valor sobre o qual será calculada a porcentagem.\n",
    "        total {int} -- valor total do conjunto\n",
    "        \n",
    "    Returns:\n",
    "        float -- O valor do percentual, com aproximação de duas casas decimais.\n",
    "    \"\"\"\n",
    "    return round((valor / total) * 100, 2)"
   ]
  },
  {
   "cell_type": "code",
   "execution_count": 16,
   "metadata": {},
   "outputs": [],
   "source": [
    "#Função para gerar os gráficos das análises\n",
    "def gerar_grafico_barh(df, group_by, y_label, title_g, size_g):\n",
    "    \"\"\"Função que gera uma tabela e um gráfico com as quantidades e proporções de coluna(s) específica(s), \n",
    "    agrupando os dados por outra coluna.\n",
    "    \n",
    "    Arguments:\n",
    "        df {pandas.DataFrame} -- dataframe contendo os dados que serão processados.\n",
    "        group_by {list} -- lista com o(s) nome(s) da(s) coluna(s) sobre a(s) qual(is) os dados serão \n",
    "                            agrupados e, por último, o nome da coluna a ser considerada para exibição.\n",
    "        y_label {string} -- rótulo da coluna que será exibida no gráfico.\n",
    "        title_g {string} -- título do gráfico.\n",
    "        size_g {tuple} -- tamanho da imagem do gráfico.\n",
    "    \n",
    "    Returns:\n",
    "        Uma tabela com os dados agrupados e sua proporção.\n",
    "        Um gráfico do tipo barh com as quantidades agrupadas.\n",
    "    \"\"\"\n",
    "    #Criar novo df com os totais e os rótulos\n",
    "    group_by.append('Sobrevivente')\n",
    "    passageiros = df.groupby(group_by)[group_by[-1]].count().to_frame(name = 'Total').reset_index()    \n",
    "    group_by.remove('Sobrevivente')\n",
    "    \n",
    "    #Agrupar rótulos em uma coluna\n",
    "    #Concatenar conteúdo das colunas no formato: (col1, ...,  colN). Ex.: (1, Homem, 15-24)    \n",
    "    for column in group_by:\n",
    "        passageiros[column] = passageiros[column].astype(str)\n",
    "    \n",
    "    if len(group_by) == 1:\n",
    "        passageiros['Rotulo'] = '(' + passageiros[group_by[0]] + ')'\n",
    "    elif len(group_by) > 1:\n",
    "        passageiros['Rotulo'] = '(' + passageiros[group_by[0]].str.cat(passageiros[group_by[1]],sep=\", \")\n",
    "        for column in group_by[2:]:\n",
    "            passageiros['Rotulo'] = passageiros['Rotulo'].str.cat(passageiros[column],sep=\", \")\n",
    "        passageiros['Rotulo'] += ')'\n",
    "        \n",
    "    passageiros = passageiros[['Rotulo', 'Sobrevivente', 'Total']]\n",
    "    \n",
    "    #Adicionar percentual sobre todos os dados\n",
    "    passageiros['%'] = calcular_percentual(passageiros['Total'], len(df_titanic_clean['Sobrevivente']))\n",
    "    \n",
    "    #Exibir dados\n",
    "    print(passageiros)\n",
    "    \n",
    "    #Criar gráfico sobre df\n",
    "    passageiros.groupby(['Rotulo', 'Sobrevivente'])['Total'].sum().sort_values().unstack().plot(\n",
    "        kind='barh', stacked=True, title=title_g, figsize=size_g)\n",
    "    grafico = plt.gca()\n",
    "    grafico.invert_yaxis()\n",
    "    grafico.set_xlabel(\"Passageiros e Tripulantes\")\n",
    "    grafico.set_ylabel(y_label)\n",
    "    \n",
    "    for item in grafico.patches:\n",
    "        percent = calcular_percentual(item.get_width(), len(df_titanic_clean['Sobrevivente']))\n",
    "        #Como a análise será feita sobre os dados maiores, e por questões de escala, \n",
    "        #serão desconsideradas das exibições no gráfico as proporções abaixo de 0.02\n",
    "        if percent > 2:\n",
    "            plt.gca().text((0.5 * item.get_width()) + item.get_x(), 0.5 * item.get_height() + item.get_y(),\n",
    "                           \"{0}%\".format(percent), fontsize=12, rotation=45, ha='center', va='center')\n",
    "    \n",
    "    plt.show()"
   ]
  },
  {
   "cell_type": "code",
   "execution_count": 17,
   "metadata": {},
   "outputs": [
    {
     "data": {
      "image/png": "[encoded data removed]",
      "text/plain": [
       "<Figure size 432x288 with 1 Axes>"
      ]
     },
     "metadata": {
      "needs_background": "light"
     },
     "output_type": "display_data"
    }
   ],
   "source": [
    "#Análise por faixa etária\n",
    "#Distribuição das idades\n",
    "df_titanic_clean['Idade'].hist();\n",
    "\n",
    "plt.title(\"Distribuição das idades dos passageiros/tripulantes do Titanic\")\n",
    "plt.ylabel(\"Passageiros e Tripulantes\")\n",
    "plt.xlabel(\"Idade\")\n",
    "\n",
    "plt.show()"
   ]
  },
  {
   "cell_type": "markdown",
   "metadata": {},
   "source": [
    "Aqui podemos já podemos observar que a maior parte dos passageiros e tripulantes tinham em torno de 20 a 40 anos. \n",
    "\n",
    "Contudo, para facilitar o entendimento da análise desta variável, vamos separar os dados por faixa etária. A informação de faixa etária é feita da seguinte forma: 0-14 anos (crianças), 15-24 anos (idade de trabalho precoce), 25-54 anos (idade máxima de trabalho), 55-64 anos (idade de trabalho madura), 65 anos e mais (idosos). (The World Factbook, 2019)"
   ]
  },
  {
   "cell_type": "code",
   "execution_count": 18,
   "metadata": {},
   "outputs": [],
   "source": [
    "#Adicionando coluna de faixa etária\n",
    "#Informação de idade máxima entre os registros (80 anos) foi obtida na análise inicial dos dados\n",
    "bin_edges = [0, 14.99, 24.99, 54.99, 64.99, 80.99]\n",
    "bin_names = ['0-14', '15-24', '25-54', '55-64', '65+']\n",
    "df_titanic_clean['Faixa_Etaria'] = pd.cut(df_titanic_clean['Idade'], bin_edges, labels=bin_names)\n",
    "\n",
    "#Com a faixa etária, a idade não é mais necessária\n",
    "df_titanic_clean.drop('Idade', axis=1, inplace=True)"
   ]
  },
  {
   "cell_type": "code",
   "execution_count": 19,
   "metadata": {},
   "outputs": [
    {
     "name": "stdout",
     "output_type": "stream",
     "text": [
      "    Rotulo Sobrevivente  Total      %\n",
      "0   (0-14)          Não     33   4.62\n",
      "1   (0-14)          Sim     45   6.30\n",
      "2  (15-24)          Não    127  17.79\n",
      "3  (15-24)          Sim     73  10.22\n",
      "4  (25-54)          Não    235  32.91\n",
      "5  (25-54)          Sim    159  22.27\n",
      "6  (55-64)          Não     19   2.66\n",
      "7  (55-64)          Sim     12   1.68\n",
      "8    (65+)          Não     10   1.40\n",
      "9    (65+)          Sim      1   0.14\n"
     ]
    },
    {
     "data": {
      "image/png": "[encoded data removed]",
      "text/plain": [
       "<Figure size 720x360 with 1 Axes>"
      ]
     },
     "metadata": {
      "needs_background": "light"
     },
     "output_type": "display_data"
    }
   ],
   "source": [
    "#Nova análise por faixa etária\n",
    "gerar_grafico_barh(df_titanic_clean, ['Faixa_Etaria'], 'Faixa etária', 'Passageiros e tripulantes por faixa etária', (10,5))"
   ]
  },
  {
   "cell_type": "markdown",
   "metadata": {},
   "source": [
    "Aqui já possível identificar que a maior parte dos passageiros e tripulantes a bordo tinham entre 25 e 54 anos. Além disso, destes, a maior parte não sobreviveu ao naufrágio (235, ou 32,91%)."
   ]
  },
  {
   "cell_type": "code",
   "execution_count": 20,
   "metadata": {
    "scrolled": false
   },
   "outputs": [
    {
     "name": "stdout",
     "output_type": "stream",
     "text": [
      "     Rotulo Sobrevivente  Total      %\n",
      "0   (Homem)          Não    360  50.42\n",
      "1   (Homem)          Sim     93  13.03\n",
      "2  (Mulher)          Não     64   8.96\n",
      "3  (Mulher)          Sim    197  27.59\n"
     ]
    },
    {
     "data": {
      "image/png": "[encoded data removed]",
      "text/plain": [
       "<Figure size 720x144 with 1 Axes>"
      ]
     },
     "metadata": {
      "needs_background": "light"
     },
     "output_type": "display_data"
    }
   ],
   "source": [
    "#Análise por sexo\n",
    "gerar_grafico_barh(df_titanic_clean, ['Sexo'], 'Sexo', 'Passageiros e tripulantes por sexo', (10,2))"
   ]
  },
  {
   "cell_type": "markdown",
   "metadata": {},
   "source": [
    "Aqui identificamos que a maior parte dos passageiros e tripulantes a bordo eram do sexo masculino. Além disso, destes, a maior parte não sobreviveu ao naufrágio (360, ou 50,42%)."
   ]
  },
  {
   "cell_type": "code",
   "execution_count": 21,
   "metadata": {},
   "outputs": [
    {
     "name": "stdout",
     "output_type": "stream",
     "text": [
      "  Rotulo Sobrevivente  Total      %\n",
      "0    (1)          Não     64   8.96\n",
      "1    (1)          Sim    122  17.09\n",
      "2    (2)          Não     90  12.61\n",
      "3    (2)          Sim     83  11.62\n",
      "4    (3)          Não    270  37.82\n",
      "5    (3)          Sim     85  11.90\n"
     ]
    },
    {
     "data": {
      "image/png": "[encoded data removed]",
      "text/plain": [
       "<Figure size 720x216 with 1 Axes>"
      ]
     },
     "metadata": {
      "needs_background": "light"
     },
     "output_type": "display_data"
    }
   ],
   "source": [
    "#Análise por classe\n",
    "gerar_grafico_barh(df_titanic_clean, ['Classe'], 'Classe', 'Passageiros e tripulantes por classe', (10,3))"
   ]
  },
  {
   "cell_type": "markdown",
   "metadata": {},
   "source": [
    "Nesta análise é possível identificar que a maior parte dos passageiros e tripulantes a bordo estava acomodada na terceira classe. Além disso, destes, também a maior parte não sobreviveu ao naufrágio (270, ou 37,82%)."
   ]
  },
  {
   "cell_type": "code",
   "execution_count": 22,
   "metadata": {},
   "outputs": [
    {
     "name": "stdout",
     "output_type": "stream",
     "text": [
      "                Rotulo Sobrevivente  Total      %\n",
      "0     (1, Homem, 0-14)          Sim      3   0.42\n",
      "1    (1, Homem, 15-24)          Não      7   0.98\n",
      "2    (1, Homem, 15-24)          Sim      2   0.28\n",
      "3    (1, Homem, 25-54)          Não     37   5.18\n",
      "4    (1, Homem, 25-54)          Sim     32   4.48\n",
      "5    (1, Homem, 55-64)          Não     12   1.68\n",
      "6    (1, Homem, 55-64)          Sim      2   0.28\n",
      "7      (1, Homem, 65+)          Não      5   0.70\n",
      "8      (1, Homem, 65+)          Sim      1   0.14\n",
      "9    (1, Mulher, 0-14)          Não      1   0.14\n",
      "10   (1, Mulher, 0-14)          Sim      1   0.14\n",
      "11  (1, Mulher, 15-24)          Sim     25   3.50\n",
      "12  (1, Mulher, 25-54)          Não      2   0.28\n",
      "13  (1, Mulher, 25-54)          Sim     49   6.86\n",
      "14  (1, Mulher, 55-64)          Sim      7   0.98\n",
      "15    (2, Homem, 0-14)          Sim      9   1.26\n",
      "16   (2, Homem, 15-24)          Não     21   2.94\n",
      "17   (2, Homem, 15-24)          Sim      1   0.14\n",
      "18   (2, Homem, 25-54)          Não     58   8.12\n",
      "19   (2, Homem, 25-54)          Sim      4   0.56\n",
      "20   (2, Homem, 55-64)          Não      3   0.42\n",
      "21   (2, Homem, 55-64)          Sim      1   0.14\n",
      "22     (2, Homem, 65+)          Não      2   0.28\n",
      "23   (2, Mulher, 0-14)          Sim     10   1.40\n",
      "24  (2, Mulher, 15-24)          Não      1   0.14\n",
      "25  (2, Mulher, 15-24)          Sim     16   2.24\n",
      "26  (2, Mulher, 25-54)          Não      4   0.56\n",
      "27  (2, Mulher, 25-54)          Sim     41   5.74\n",
      "28  (2, Mulher, 55-64)          Não      1   0.14\n",
      "29  (2, Mulher, 55-64)          Sim      1   0.14\n",
      "30    (3, Homem, 0-14)          Não     18   2.52\n",
      "31    (3, Homem, 0-14)          Sim      9   1.26\n",
      "32   (3, Homem, 15-24)          Não     82  11.48\n",
      "33   (3, Homem, 15-24)          Sim      9   1.26\n",
      "34   (3, Homem, 25-54)          Não    109  15.27\n",
      "35   (3, Homem, 25-54)          Sim     20   2.80\n",
      "36   (3, Homem, 55-64)          Não      3   0.42\n",
      "37     (3, Homem, 65+)          Não      3   0.42\n",
      "38   (3, Mulher, 0-14)          Não     14   1.96\n",
      "39   (3, Mulher, 0-14)          Sim     13   1.82\n",
      "40  (3, Mulher, 15-24)          Não     16   2.24\n",
      "41  (3, Mulher, 15-24)          Sim     20   2.80\n",
      "42  (3, Mulher, 25-54)          Não     25   3.50\n",
      "43  (3, Mulher, 25-54)          Sim     13   1.82\n",
      "44  (3, Mulher, 55-64)          Sim      1   0.14\n"
     ]
    },
    {
     "data": {
      "image/png": "[encoded data removed]",
      "text/plain": [
       "<Figure size 720x1080 with 1 Axes>"
      ]
     },
     "metadata": {
      "needs_background": "light"
     },
     "output_type": "display_data"
    }
   ],
   "source": [
    "#Análise das 3 características agrupadas\n",
    "gerar_grafico_barh(df_titanic_clean,['Classe', 'Sexo', 'Faixa_Etaria'], '(Classe, Sexo, Faixa etária)', \n",
    "                   'Passageiros e tripulantes por classe/sexo/faixa etária', (10,15))"
   ]
  },
  {
   "cell_type": "markdown",
   "metadata": {},
   "source": [
    "A partir dos dados deste gráfico, vamos comparar os três grupos de maior quantidade de não sobreviventes com o total de passageiros/tripulantes que possuem os dados completos no registro, para se ter uma ideia da proporção."
   ]
  },
  {
   "cell_type": "code",
   "execution_count": 23,
   "metadata": {},
   "outputs": [
    {
     "name": "stdout",
     "output_type": "stream",
     "text": [
      "Total de passageiros e tripulantes considerados: 714\n",
      "Total de passageiros e tripulantes sobreviventes: 290\n",
      "Total de passageiros e tripulantes não sobreviventes: 424\n",
      "Total de terceira classe, homem, faixa etária 25 a 54 anos: 129, 18.07%\n",
      "Total de terceira classe, homem, faixa etária 15 a 24 anos: 91, 12.75%\n",
      "Total de segunda classe, homem, faixa etária 25 a 54 anos: 62, 8.68%\n"
     ]
    }
   ],
   "source": [
    "total_passageiros = len(df_titanic_clean)\n",
    "total_nao_sobreviventes = len(df_titanic_clean[df_titanic_clean['Sobrevivente'] == 'Não'])\n",
    "total_sobreviventes = len(df_titanic_clean[df_titanic_clean['Sobrevivente'] == 'Sim'])\n",
    "total_classe3_homem_2554 = len(df_titanic_clean.query(\"Classe == '3' & Sexo == 'Homem' & Faixa_Etaria == '25-54'\"))\n",
    "total_classe3_homem_1524 = len(df_titanic_clean.query(\"Classe == '3' & Sexo == 'Homem' & Faixa_Etaria == '15-24'\"))\n",
    "total_classe2_homem_2554 = len(df_titanic_clean.query(\"Classe == '2' & Sexo == 'Homem' & Faixa_Etaria == '25-54'\"))\n",
    "\n",
    "print(\"Total de passageiros e tripulantes considerados: {0}\".format(total_passageiros))\n",
    "print(\"Total de passageiros e tripulantes sobreviventes: {0}\".format(total_sobreviventes))\n",
    "print(\"Total de passageiros e tripulantes não sobreviventes: {0}\".format(total_nao_sobreviventes))\n",
    "print(\"Total de terceira classe, homem, faixa etária 25 a 54 anos: {0}, {1}%\".format(total_classe3_homem_2554, \n",
    "       calcular_percentual(total_classe3_homem_2554, len(df_titanic_clean['Sobrevivente']))))\n",
    "print(\"Total de terceira classe, homem, faixa etária 15 a 24 anos: {0}, {1}%\".format(total_classe3_homem_1524, \n",
    "       calcular_percentual(total_classe3_homem_1524, len(df_titanic_clean['Sobrevivente']))))\n",
    "print(\"Total de segunda classe, homem, faixa etária 25 a 54 anos: {0}, {1}%\".format(total_classe2_homem_2554, \n",
    "       calcular_percentual(total_classe2_homem_2554, len(df_titanic_clean['Sobrevivente']))))"
   ]
  },
  {
   "cell_type": "markdown",
   "metadata": {},
   "source": [
    "Nesta análise é possível verificar que o grupo que teve mais passageiros e tripulantes que não sobreveviveram também é o que possuía mais pessoas à bordo (homens da terceira e segunda classe, com idade entre 15 e 54 anos). Isso corrobora a informação apresentada nas três análises iniciais desta pergunta."
   ]
  },
  {
   "cell_type": "markdown",
   "metadata": {},
   "source": [
    "### Conclusões\n",
    "\n",
    "A análise dos registros que possuíam todos os dados a serem analisados, num total de 714 passageiros e tripulantes a bordo do navio, mostrou que 424 (59,38%) deles não sobreviveram ao desastre, enquanto 290 (40,62%) sobreviveram. Ainda, que a maior parte eram homens (63,45%), de faixa etária de 25 a 54 anos (55,18%), acomodados na terceira classe (49,72%).\n",
    "\n",
    "A análise das características dos não sobreviventes mostra que a maior parte eram homens da terceira e segunda classe, com idade entre 15 e 54 anos. Considerando o número total de passageiros e tripulantes analisados, tratam-se de 34,87%. Como também são as características que mais possuíam passageiros e tripulantes a bordo do navio (39,50%), a análise é inconclusiva para entender, por exemplo, se essas características foram determinantes para não terem sobrevivido ao desastre."
   ]
  },
  {
   "cell_type": "markdown",
   "metadata": {},
   "source": [
    "\n",
    "### Referências\n",
    "\n",
    "Dados extraídos de: https://d17h27t6h515a5.cloudfront.net/topher/2017/October/59e4fe3d_titanic-data-6/titanic-data-6.csv\n",
    "\n",
    "https://www.kaggle.com/c/titanic/data\n",
    "\n",
    "https://paulovasconcellos.com.br/o-que-o-naufr%C3%A1gio-do-titanic-nos-ensina-at%C3%A9-hoje-data-science-project-2fea8ff1c9b5\n",
    "\n",
    "https://www.cia.gov/library/publications/the-world-factbook/fields/341.html"
   ]
  }
 ],
 "metadata": {
  "kernelspec": {
   "display_name": "Python 3",
   "language": "python",
   "name": "python3"
  },
  "language_info": {
   "codemirror_mode": {
    "name": "ipython",
    "version": 3
   },
   "file_extension": ".py",
   "mimetype": "text/x-python",
   "name": "python",
   "nbconvert_exporter": "python",
   "pygments_lexer": "ipython3",
   "version": "3.7.1"
  }
 },
 "nbformat": 4,
 "nbformat_minor": 2
}
